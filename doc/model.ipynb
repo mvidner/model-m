{
 "cells": [
  {
   "cell_type": "markdown",
   "metadata": {},
   "source": [
    "# Extended Network Model\n",
    "\n",
    "\n",
    "\n",
    "### States\n",
    "\n",
    "$S_s, S, E, I_n, I_a, I_s, I_d, R_d, R_u, D_d, D_u$"
   ]
  },
  {
   "cell_type": "markdown",
   "metadata": {},
   "source": [
    "### Transitions \n",
    "\n",
    "$S \\rightarrow S_s$\n",
    "\n",
    "$        S \\rightarrow E$\n",
    "\n",
    "$        S_s \\rightarrow S$\n",
    "\n",
    "$        S_s \\rightarrow E$\n",
    "\n",
    "$        E \\rightarrow I_n$\n",
    "\n",
    "$        E \\rightarrow I_a$\n",
    "\n",
    "$        I_n \\rightarrow R_u$\n",
    "\n",
    "$        I_a \\rightarrow I_s$\n",
    "\n",
    "$        I_s \\rightarrow R_u$\n",
    "\n",
    "$        I_s \\rightarrow D_u$\n",
    "\n",
    "$        I_s \\rightarrow I_d$\n",
    "\n",
    "$        I_d \\rightarrow R_d$\n",
    "\n",
    "$        I_d \\rightarrow D_d$\n",
    "\n",
    "$        I_a \\rightarrow I_d$\n",
    "\n",
    "$        E \\rightarrow I_d $\n"
   ]
  },
  {
   "cell_type": "markdown",
   "metadata": {},
   "source": [
    "### Seirsplus propensity \n",
    "\n",
    "$P[X_i = S \\rightarrow E] = \n",
    "\\left[ p \\frac{\\beta I}{N} + (1-p) \n",
    "\\frac{\n",
    "\\beta \\sum_{j \\in C_{G(i)} \\delta_{X_j=I}}\n",
    "}{|C_{G(i)}|}\n",
    " \\right] \\delta_{X_t=S}\n",
    "$\n",
    "\n",
    "where $I$ is a number of infected, $N$ total number of living individuals, $\\beta$ rate of transmission (may be individual for each node), $\\delta_{X_j=I}$ is 1 if $X_j = I$, $0$ otherwise,  $X_i$ state of individual $i$, $C_{G(i)}$ is a set of close contacts (nodes $j$, that edge $(i, j)$ is in the given graph $G$). "
   ]
  },
  {
   "cell_type": "markdown",
   "metadata": {},
   "source": [
    "### Extended propensity"
   ]
  },
  {
   "cell_type": "markdown",
   "metadata": {},
   "source": [
    "We use the same formula for $P[X_i = S -> E]$ with these modifications:\n",
    "\n",
    "+ $I$ is the total number of $I$-states, i.e. sum of $I_n$, $I_a$, $I_s$, $I_d$ \n",
    "\n",
    "+ $\\delta_{X=I} = 1$ if and only if $X \\in \\{ I_n, I_a, I_s, I_d \\}$\n",
    "\n",
    "+ edges has weights \n",
    "\n",
    "+ $|C_{G(i)}|$ is not the number of edges from $i$, but the sum of their weights (!there is only one edge between (i,j) in $G$) \n",
    "\n",
    "+ $\\sum_{j \\in C_{G(i)}} \\delta_{X_j=I}$ is replaced by $\\sum_{j \\in C_{G(i)}} w_{(i,j)}\\delta_{X_j=I}$ "
   ]
  },
  {
   "cell_type": "markdown",
   "metadata": {},
   "source": [
    "### Constraction G from G_multi "
   ]
  },
  {
   "cell_type": "markdown",
   "metadata": {},
   "source": [
    "Graph $G_{multi}$ may contain more edges between $i, j$. Each edge has type $t$ and subtype $s$ and weight $w_{i,j,t,s}$ (intensity)."
   ]
  },
  {
   "cell_type": "markdown",
   "metadata": {},
   "source": [
    "Graph $G$ has max one edge $(i,j)$ between nodes $i,j$. Edge as weight $w_{i,j}$."
   ]
  },
  {
   "cell_type": "markdown",
   "metadata": {},
   "source": [
    "$w_{i,j,t} = \\sum_s w_{i,j,t,s}$ (sum over intensities of sublayers)\n",
    "\n",
    "Weight $w_{i,j} = 1 - \\prod_t (1-w_{i,j,t})$ (weights on layers t are taking as probabilities of contact on that layer and are the final weight is probabily of contact on any layer) !!!! **this is probably the problem, that this is not correct**"
   ]
  },
  {
   "cell_type": "markdown",
   "metadata": {},
   "source": [
    "### SEIRS + testing\n",
    "\n",
    "in fact, we use the variant with testing, where $I_d$ states has their own probs, TODO rewrite formulas "
   ]
  },
  {
   "cell_type": "markdown",
   "metadata": {},
   "source": [
    "```\n",
    "    propensities[(\"S\", \"S_s\")] = model.false_symptoms_rate*(model.X == \"S\")\n",
    "\n",
    "    #  \"S\" -> \"E\"\n",
    "    numI = model.current_state_count(\n",
    "        \"I_n\") + model.current_state_count(\"I_a\") + model.current_state_count(\"I_s\")\n",
    "\n",
    "    S_to_E_koef = (\n",
    "        model.p * (\n",
    "            model.beta * numI +\n",
    "            model.q * model.beta_D * model.current_state_count(\"I_d\")\n",
    "        ) / model.current_N()\n",
    "        +\n",
    "        (1 - model.p) * np.divide(\n",
    "            model.beta * numContacts_I +\n",
    "            model.beta_D * numContacts_Id, model.degree, out=np.zeros_like(model.degree), where=model.degree != 0\n",
    "        )\n",
    "    )\n",
    "    propensities[(\"S\", \"E\")] = S_to_E_koef * (model.X == \"S\")\n",
    "\n",
    "    propensities[(\"S_s\", \"S\")\n",
    "                 ] = model.false_symptoms_recovery_rate*(model.X == \"S_s\")\n",
    "\n",
    "    # becoming exposed does not depend on unrelated symptoms\n",
    "    propensities[(\"S_s\", \"E\")] = S_to_E_koef * (model.X == \"S_s\")\n",
    "\n",
    "    exposed = model.X == \"E\"\n",
    "    propensities[(\"E\", \"I_n\")] = model.asymptomatic_rate * \\\n",
    "        model.sigma * exposed\n",
    "    propensities[(\"E\", \"I_a\")] = (\n",
    "        1-model.asymptomatic_rate) * model.sigma * exposed\n",
    "\n",
    "    propensities[(\"I_n\", \"R_u\")] = model.gamma * (model.X == \"I_n\")\n",
    "\n",
    "    asymptomatic = model.X == \"I_a\"\n",
    "    propensities[(\"I_a\", \"I_s\")\n",
    "                 ] = model.symptoms_manifest_rate * asymptomatic\n",
    "\n",
    "    symptomatic = model.X == \"I_s\"\n",
    "    propensities[(\"I_s\", \"R_u\")] = model.gamma * symptomatic\n",
    "    propensities[(\"I_s\", \"D_u\")] = model.mu_I * symptomatic\n",
    "\n",
    "    detected = model.X == \"I_d\"\n",
    "    propensities[(\"I_d\", \"R_d\")] = model.gamma_D * detected\n",
    "    propensities[(\"I_d\", \"D_d\")] = model.mu_D * detected\n",
    "\n",
    "    # testing  TODO\n",
    "    propensities[(\"I_a\", \"I_d\")] = (\n",
    "        model.theta_Ia + model.phi_Ia * numContacts_Id) * model.psi_Ia * asymptomatic\n",
    "\n",
    "    propensities[(\"I_s\", \"I_d\")] = (\n",
    "        model.theta_Is + model.phi_Is * numContacts_Id) * model.psi_Is * symptomatic\n",
    "\n",
    "    propensities[(\"E\", \"I_d\")] = (\n",
    "        model.theta_E + model.phi_E * numContacts_Id) * model.psi_E * exposed\n",
    "\n",
    "```"
   ]
  },
  {
   "cell_type": "code",
   "execution_count": null,
   "metadata": {},
   "outputs": [],
   "source": []
  }
 ],
 "metadata": {
  "kernelspec": {
   "display_name": "Python 3",
   "language": "python",
   "name": "python3"
  },
  "language_info": {
   "codemirror_mode": {
    "name": "ipython",
    "version": 3
   },
   "file_extension": ".py",
   "mimetype": "text/x-python",
   "name": "python",
   "nbconvert_exporter": "python",
   "pygments_lexer": "ipython3",
   "version": "3.6.9"
  }
 },
 "nbformat": 4,
 "nbformat_minor": 4
}
